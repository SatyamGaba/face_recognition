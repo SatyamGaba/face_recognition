{
 "cells": [
  {
   "cell_type": "code",
   "execution_count": 12,
   "metadata": {},
   "outputs": [
    {
     "data": {
      "text/plain": [
       "<torch._C.Generator at 0x7f2b68120b50>"
      ]
     },
     "execution_count": 12,
     "metadata": {},
     "output_type": "execute_result"
    }
   ],
   "source": [
    "\"\"\"To extract features of a face from trained network\"\"\"\n",
    "\n",
    "import torch\n",
    "from torch.autograd import Variable\n",
    "import torch.functional as F\n",
    "import dataLoader\n",
    "import argparse\n",
    "import torch.optim as optim\n",
    "import torchvision.utils as vutils\n",
    "from torch.utils.data import DataLoader\n",
    "import faceNet\n",
    "import torch.nn as nn\n",
    "import os\n",
    "import numpy as np\n",
    "from sklearn.manifold import TSNE\n",
    "import matplotlib.pyplot as plt \n",
    "\n",
    "# do not change seed value\n",
    "np.random.seed(11)\n",
    "torch.random.manual_seed(11)"
   ]
  },
  {
   "cell_type": "code",
   "execution_count": 2,
   "metadata": {},
   "outputs": [],
   "source": [
    "batch_size = 10\n",
    "m = 4\n",
    "model = \"checkpoint/netFinal_8.pth\"\n",
    "imWidth = 96\n",
    "imHeight = 112\n",
    "imageRoot = \"/datasets/cse152-252-sp20-public/hw2_data/CASIA-WebFace/\"\n",
    "alignmentRoot = \"./data/casia_landmark.txt\""
   ]
  },
  {
   "cell_type": "code",
   "execution_count": 4,
   "metadata": {},
   "outputs": [],
   "source": [
    "# Initialize dataLoader\n",
    "faceDataset = dataLoader.BatchLoader(\n",
    "        imageRoot = imageRoot,\n",
    "        alignmentRoot = alignmentRoot,\n",
    "        cropSize = (imWidth, imHeight ),\n",
    "        shuffle = False)\n",
    "faceLoader = DataLoader(faceDataset, batch_size = batch_size, num_workers = 16, shuffle = False )\n"
   ]
  },
  {
   "cell_type": "code",
   "execution_count": 6,
   "metadata": {},
   "outputs": [
    {
     "name": "stderr",
     "output_type": "stream",
     "text": [
      "/home/sgaba/face_recognition/sphereFace/matlab_cp2tform.py:85: FutureWarning: `rcond` parameter will change to the default of machine precision times ``max(M, N)`` where M and N are the input matrix dimensions.\n",
      "To use the future default and silence this warning we advise to pass `rcond=None`, to keep using the old, explicitly pass `rcond=-1`.\n",
      "  r, _, _, _ = lstsq(X, U)\n",
      "/home/sgaba/face_recognition/sphereFace/matlab_cp2tform.py:85: FutureWarning: `rcond` parameter will change to the default of machine precision times ``max(M, N)`` where M and N are the input matrix dimensions.\n",
      "To use the future default and silence this warning we advise to pass `rcond=None`, to keep using the old, explicitly pass `rcond=-1`.\n",
      "  r, _, _, _ = lstsq(X, U)\n",
      "/home/sgaba/face_recognition/sphereFace/matlab_cp2tform.py:85: FutureWarning: `rcond` parameter will change to the default of machine precision times ``max(M, N)`` where M and N are the input matrix dimensions.\n",
      "To use the future default and silence this warning we advise to pass `rcond=None`, to keep using the old, explicitly pass `rcond=-1`.\n",
      "  r, _, _, _ = lstsq(X, U)\n",
      "/home/sgaba/face_recognition/sphereFace/matlab_cp2tform.py:85: FutureWarning: `rcond` parameter will change to the default of machine precision times ``max(M, N)`` where M and N are the input matrix dimensions.\n",
      "To use the future default and silence this warning we advise to pass `rcond=None`, to keep using the old, explicitly pass `rcond=-1`.\n",
      "  r, _, _, _ = lstsq(X, U)\n",
      "/home/sgaba/face_recognition/sphereFace/matlab_cp2tform.py:85: FutureWarning: `rcond` parameter will change to the default of machine precision times ``max(M, N)`` where M and N are the input matrix dimensions.\n",
      "To use the future default and silence this warning we advise to pass `rcond=None`, to keep using the old, explicitly pass `rcond=-1`.\n",
      "  r, _, _, _ = lstsq(X, U)\n",
      "/home/sgaba/face_recognition/sphereFace/matlab_cp2tform.py:85: FutureWarning: `rcond` parameter will change to the default of machine precision times ``max(M, N)`` where M and N are the input matrix dimensions.\n",
      "To use the future default and silence this warning we advise to pass `rcond=None`, to keep using the old, explicitly pass `rcond=-1`.\n",
      "  r, _, _, _ = lstsq(X, U)\n",
      "/home/sgaba/face_recognition/sphereFace/matlab_cp2tform.py:85: FutureWarning: `rcond` parameter will change to the default of machine precision times ``max(M, N)`` where M and N are the input matrix dimensions.\n",
      "To use the future default and silence this warning we advise to pass `rcond=None`, to keep using the old, explicitly pass `rcond=-1`.\n",
      "  r, _, _, _ = lstsq(X, U)\n",
      "/home/sgaba/face_recognition/sphereFace/matlab_cp2tform.py:85: FutureWarning: `rcond` parameter will change to the default of machine precision times ``max(M, N)`` where M and N are the input matrix dimensions.\n",
      "To use the future default and silence this warning we advise to pass `rcond=None`, to keep using the old, explicitly pass `rcond=-1`.\n",
      "  r, _, _, _ = lstsq(X, U)\n",
      "/home/sgaba/face_recognition/sphereFace/matlab_cp2tform.py:85: FutureWarning: `rcond` parameter will change to the default of machine precision times ``max(M, N)`` where M and N are the input matrix dimensions.\n",
      "To use the future default and silence this warning we advise to pass `rcond=None`, to keep using the old, explicitly pass `rcond=-1`.\n",
      "  r, _, _, _ = lstsq(X, U)\n",
      "/home/sgaba/face_recognition/sphereFace/matlab_cp2tform.py:85: FutureWarning: `rcond` parameter will change to the default of machine precision times ``max(M, N)`` where M and N are the input matrix dimensions.\n",
      "To use the future default and silence this warning we advise to pass `rcond=None`, to keep using the old, explicitly pass `rcond=-1`.\n",
      "  r, _, _, _ = lstsq(X, U)\n",
      "/home/sgaba/face_recognition/sphereFace/matlab_cp2tform.py:85: FutureWarning: `rcond` parameter will change to the default of machine precision times ``max(M, N)`` where M and N are the input matrix dimensions.\n",
      "To use the future default and silence this warning we advise to pass `rcond=None`, to keep using the old, explicitly pass `rcond=-1`.\n",
      "  r, _, _, _ = lstsq(X, U)\n",
      "/home/sgaba/face_recognition/sphereFace/matlab_cp2tform.py:85: FutureWarning: `rcond` parameter will change to the default of machine precision times ``max(M, N)`` where M and N are the input matrix dimensions.\n",
      "To use the future default and silence this warning we advise to pass `rcond=None`, to keep using the old, explicitly pass `rcond=-1`.\n",
      "  r, _, _, _ = lstsq(X, U)\n",
      "/home/sgaba/face_recognition/sphereFace/matlab_cp2tform.py:85: FutureWarning: `rcond` parameter will change to the default of machine precision times ``max(M, N)`` where M and N are the input matrix dimensions.\n",
      "To use the future default and silence this warning we advise to pass `rcond=None`, to keep using the old, explicitly pass `rcond=-1`.\n",
      "  r, _, _, _ = lstsq(X, U)\n",
      "/home/sgaba/face_recognition/sphereFace/matlab_cp2tform.py:85: FutureWarning: `rcond` parameter will change to the default of machine precision times ``max(M, N)`` where M and N are the input matrix dimensions.\n",
      "To use the future default and silence this warning we advise to pass `rcond=None`, to keep using the old, explicitly pass `rcond=-1`.\n",
      "  r, _, _, _ = lstsq(X, U)\n",
      "/home/sgaba/face_recognition/sphereFace/matlab_cp2tform.py:85: FutureWarning: `rcond` parameter will change to the default of machine precision times ``max(M, N)`` where M and N are the input matrix dimensions.\n",
      "To use the future default and silence this warning we advise to pass `rcond=None`, to keep using the old, explicitly pass `rcond=-1`.\n",
      "  r, _, _, _ = lstsq(X, U)\n",
      "/home/sgaba/face_recognition/sphereFace/matlab_cp2tform.py:85: FutureWarning: `rcond` parameter will change to the default of machine precision times ``max(M, N)`` where M and N are the input matrix dimensions.\n",
      "To use the future default and silence this warning we advise to pass `rcond=None`, to keep using the old, explicitly pass `rcond=-1`.\n",
      "  r, _, _, _ = lstsq(X, U)\n"
     ]
    },
    {
     "name": "stdout",
     "output_type": "stream",
     "text": [
      "[[ 2.6386573   1.6819938  -0.40619707]\n",
      " [ 1.8768724  -2.5056872  -2.2107666 ]\n",
      " [ 0.3411923  -5.725858   -0.19994393]]\n"
     ]
    }
   ],
   "source": [
    "net = faceNet.faceNet(m = m, feature = True )\n",
    "net.load_state_dict(torch.load(model) )\n",
    "net.cuda()\n",
    "net.eval()\n",
    "\n",
    "for i, dataBatch in enumerate(faceLoader):\n",
    "    # Read data\n",
    "    image_cpu = dataBatch['img']\n",
    "    imBatch = Variable(image_cpu )\n",
    "    imBatch = imBatch.cuda()\n",
    "    feature = net(imBatch)\n",
    "    break\n",
    "feature = feature.detach().cpu().numpy()\n",
    "print(feature[:3,:3])\n",
    "feature /= np.linalg.norm(feature, axis = 1).reshape((10,1))\n",
    "# print(np.sum(feature**2, axis = 1))\n",
    "\n",
    "# feature.\n"
   ]
  },
  {
   "cell_type": "code",
   "execution_count": 22,
   "metadata": {},
   "outputs": [
    {
     "name": "stderr",
     "output_type": "stream",
     "text": [
      "/opt/conda/lib/python3.7/site-packages/ipykernel_launcher.py:13: MatplotlibDeprecationWarning: Adding an axes using the same arguments as a previous axes currently reuses the earlier instance.  In a future version, a new instance will always be created and returned.  Meanwhile, this warning can be suppressed, and the future behavior ensured, by passing a unique label to each axes instance.\n",
      "  del sys.path[0]\n"
     ]
    },
    {
     "data": {
      "text/plain": [
       "<matplotlib.collections.PathCollection at 0x7f296991dac8>"
      ]
     },
     "execution_count": 22,
     "metadata": {},
     "output_type": "execute_result"
    },
    {
     "data": {
      "image/png": "[encoded data removed]",
      "text/plain": [
       "<Figure size 432x288 with 1 Axes>"
      ]
     },
     "metadata": {
      "needs_background": "light"
     },
     "output_type": "display_data"
    }
   ],
   "source": [
    "feature_embedded = TSNE(n_components=2).fit_transform(feature)\n",
    "\n",
    "n_samples = feature_embedded.shape[0]\n",
    "x = np.linspace(0, 1, int(np.sqrt(n_samples))+1)\n",
    "xx, yy = np.meshgrid(x, x)\n",
    "X = np.hstack([\n",
    "    xx.ravel().reshape(-1, 1),\n",
    "    yy.ravel().reshape(-1, 1),\n",
    "])\n",
    "color = xx.ravel()\n",
    "color = color[:n_samples]\n",
    "plt.plot(figsize=(15, 8))\n",
    "ax = plt.subplot(111)\n",
    "ax.scatter(feature_embedded[:, 0], feature_embedded[:, 1], c=color)"
   ]
  },
  {
   "cell_type": "code",
   "execution_count": null,
   "metadata": {},
   "outputs": [],
   "source": []
  }
 ],
 "metadata": {
  "kernelspec": {
   "display_name": "Python 3",
   "language": "python",
   "name": "python3"
  },
  "language_info": {
   "codemirror_mode": {
    "name": "ipython",
    "version": 3
   },
   "file_extension": ".py",
   "mimetype": "text/x-python",
   "name": "python",
   "nbconvert_exporter": "python",
   "pygments_lexer": "ipython3",
   "version": "3.7.3"
  }
 },
 "nbformat": 4,
 "nbformat_minor": 2
}
